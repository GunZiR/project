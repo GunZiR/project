{
  "nbformat": 4,
  "nbformat_minor": 0,
  "metadata": {
    "colab": {
      "provenance": []
    },
    "kernelspec": {
      "display_name": "Python 3",
      "name": "python3"
    },
    "language_info": {
      "name": "python"
    },
    "accelerator": "GPU"
  },
  "cells": [
    {
      "cell_type": "markdown",
      "metadata": {
        "id": "V4ThmSEInB_L"
      },
      "source": [
        "# **ธนกร หนองหารพิทักษ์ 63010391**\n",
        "## ภาควิชา วิศวกรรมศาสตร์ระบบวัดและควบคุม สาขา แมคคาทรอนิกส์และออโตเมชั่น"
      ]
    },
    {
      "cell_type": "markdown",
      "metadata": {
        "id": "Nm9tlxv4tuEb"
      },
      "source": [
        "# **MAiRO: Play Mario by AI**"
      ]
    },
    {
      "cell_type": "markdown",
      "metadata": {
        "id": "IOuTcl_fysQ9"
      },
      "source": [
        "# **Introduction**"
      ]
    },
    {
      "cell_type": "markdown",
      "metadata": {
        "id": "he1-FAnlH7Td"
      },
      "source": [
        "เกมบางเกมการจะเล่นให้ผ่านนั้นเป็นเรื่องยากมาก จึงเกิดไอเดียว่าถ้าให้ AI เล่นเกมจะสามารถทำได้ดีกว่าหรือเปล่า โดยใช้หลักการ DDQN (Double Deep Q Network) ซึ่งเป็น Reinforcement Learning แบบหนึ่ง"
      ]
    },
    {
      "cell_type": "markdown",
      "metadata": {
        "id": "408gixnjy-Yo"
      },
      "source": [
        "# **Objective**"
      ]
    },
    {
      "cell_type": "markdown",
      "metadata": {
        "id": "SH7ThNPEHvD1"
      },
      "source": [
        "มาริโอ้สามารถเรียนรู้และผ่านด่านได้จนถึงจุดสิ้นสุดด่าน หรืออย่างน้อยสุดมาริโอ้สามารถรู้ได้ว่าควรทำอะไร (เดินไปข้างหน้าให้ไกลที่สุด)\n"
      ]
    },
    {
      "cell_type": "markdown",
      "metadata": {
        "id": "tQtUDGGZzBUg"
      },
      "source": [
        "# **Methodology**"
      ]
    },
    {
      "cell_type": "markdown",
      "metadata": {
        "id": "pAR8eTN7JHtb"
      },
      "source": [
        "library ที่ใช้หลักๆ จะเป็น pytorch และ gym โดยการสร้าง environment ด้วย gym และสร้าง agent ด้วย pytorch\n",
        "โดย"
      ]
    },
    {
      "cell_type": "markdown",
      "metadata": {
        "id": "lCh00gM7BZl2"
      },
      "source": [
        "**Install gym-super-mario-bros**"
      ]
    },
    {
      "cell_type": "code",
      "metadata": {
        "id": "MAcXXJDzrA34"
      },
      "source": [
        "!pip install gym-super-mario-bros==7.3.0"
      ],
      "execution_count": null,
      "outputs": []
    },
    {
      "cell_type": "markdown",
      "metadata": {
        "id": "0TxHkOW_Bl18"
      },
      "source": [
        "**Import important library**"
      ]
    },
    {
      "cell_type": "code",
      "metadata": {
        "id": "2e-6O2p0gpZG"
      },
      "source": [
        "# pytorch และ อื่นๆ\n",
        "import torch\n",
        "from torch import nn\n",
        "from torchvision import transforms as T\n",
        "import numpy as np\n",
        "import matplotlib.pyplot as plt\n",
        "from collections import deque\n",
        "import copy, random, datetime\n",
        "%matplotlib inline\n",
        "\n",
        "# ปรับแต่ง environment\n",
        "import gym\n",
        "from gym import ObservationWrapper, Wrapper\n",
        "from gym.spaces import Box\n",
        "from gym.wrappers import FrameStack, Monitor\n",
        "\n",
        "# NES Emulator\n",
        "from nes_py.wrappers import JoypadSpace\n",
        "\n",
        "# Super Mario environment\n",
        "import gym_super_mario_bros\n",
        "from gym_super_mario_bros.actions import RIGHT_ONLY"
      ],
      "execution_count": null,
      "outputs": []
    },
    {
      "cell_type": "code",
      "metadata": {
        "colab": {
          "base_uri": "https://localhost:8080/"
        },
        "id": "bjUniOahtdkS",
        "outputId": "86d208c8-8b4f-4780-f179-781166de5ff9"
      },
      "source": [
        "# สร้าง environment\n",
        "env = gym_super_mario_bros.make(\"SuperMarioBros-1-1-v0\")\n",
        "env.reset().shape"
      ],
      "execution_count": null,
      "outputs": [
        {
          "output_type": "execute_result",
          "data": {
            "text/plain": [
              "(240, 256, 3)"
            ]
          },
          "metadata": {},
          "execution_count": 14
        }
      ]
    },
    {
      "cell_type": "code",
      "metadata": {
        "colab": {
          "base_uri": "https://localhost:8080/",
          "height": 269
        },
        "id": "nSKzM-dPDdlm",
        "outputId": "d7cacc14-bef2-4639-b8ed-ebaa71826f8b"
      },
      "source": [
        "# ลองสร้าง state เริ่มต้น\n",
        "state = env.reset()\n",
        "plt.imshow(state)\n",
        "plt.show()"
      ],
      "execution_count": null,
      "outputs": [
        {
          "output_type": "display_data",
          "data": {
            "image/png": "[encoded data removed]",
            "text/plain": [
              "<Figure size 432x288 with 1 Axes>"
            ]
          },
          "metadata": {
            "needs_background": "light"
          }
        }
      ]
    },
    {
      "cell_type": "code",
      "metadata": {
        "colab": {
          "base_uri": "https://localhost:8080/"
        },
        "id": "dacr_HKbVuXi",
        "outputId": "90838c6d-bc23-48b0-ab46-81524729f321"
      },
      "source": [
        "# ทดสอบรันโดยไม่เทรน\n",
        "episodes = 10\n",
        "for e in range(1, episodes+1):\n",
        "  env.reset()\n",
        "  total_reward = 0\n",
        "  done = False\n",
        "  while not done:\n",
        "    action = env.action_space.sample()\n",
        "    next_state, reward, done, info = env.step(action)\n",
        "    total_reward += reward\n",
        "  print(f'episode: {e}, reward: {total_reward}, info: {info}')"
      ],
      "execution_count": null,
      "outputs": [
        {
          "output_type": "stream",
          "name": "stderr",
          "text": [
            "/usr/local/lib/python3.7/dist-packages/gym_super_mario_bros/smb_env.py:148: RuntimeWarning: overflow encountered in ubyte_scalars\n",
            "  return (self.ram[0x86] - self.ram[0x071c]) % 256\n"
          ]
        },
        {
          "output_type": "stream",
          "name": "stdout",
          "text": [
            "episode: 1, reward: 267, info: {'coins': 0, 'flag_get': False, 'life': 2, 'score': 100, 'stage': 1, 'status': 'small', 'time': 0, 'world': 1, 'x_pos': 722, 'x_pos_screen': 79, 'y_pos': 114}\n",
            "episode: 2, reward: 139, info: {'coins': 0, 'flag_get': False, 'life': 2, 'score': 0, 'stage': 1, 'status': 'small', 'time': 0, 'world': 1, 'x_pos': 594, 'x_pos_screen': 79, 'y_pos': 101}\n",
            "episode: 3, reward: 137, info: {'coins': 0, 'flag_get': False, 'life': 2, 'score': 100, 'stage': 1, 'status': 'small', 'time': 0, 'world': 1, 'x_pos': 592, 'x_pos_screen': 76, 'y_pos': 79}\n",
            "episode: 4, reward: 138, info: {'coins': 0, 'flag_get': False, 'life': 2, 'score': 100, 'stage': 1, 'status': 'small', 'time': 0, 'world': 1, 'x_pos': 593, 'x_pos_screen': 78, 'y_pos': 89}\n",
            "episode: 5, reward: 215, info: {'coins': 0, 'flag_get': False, 'life': 2, 'score': 0, 'stage': 1, 'status': 'small', 'time': 380, 'world': 1, 'x_pos': 291, 'x_pos_screen': 112, 'y_pos': 89}\n",
            "episode: 6, reward: 138, info: {'coins': 0, 'flag_get': False, 'life': 2, 'score': 0, 'stage': 1, 'status': 'small', 'time': 0, 'world': 1, 'x_pos': 593, 'x_pos_screen': 78, 'y_pos': 106}\n",
            "episode: 7, reward: 262, info: {'coins': 0, 'flag_get': False, 'life': 2, 'score': 100, 'stage': 1, 'status': 'small', 'time': 0, 'world': 1, 'x_pos': 717, 'x_pos_screen': 74, 'y_pos': 84}\n",
            "episode: 8, reward: 229, info: {'coins': 0, 'flag_get': False, 'life': 2, 'score': 0, 'stage': 1, 'status': 'small', 'time': 391, 'world': 1, 'x_pos': 295, 'x_pos_screen': 112, 'y_pos': 79}\n",
            "episode: 9, reward: 267, info: {'coins': 0, 'flag_get': False, 'life': 2, 'score': 200, 'stage': 1, 'status': 'small', 'time': 0, 'world': 1, 'x_pos': 722, 'x_pos_screen': 79, 'y_pos': 93}\n",
            "episode: 10, reward: 139, info: {'coins': 0, 'flag_get': False, 'life': 2, 'score': 100, 'stage': 1, 'status': 'small', 'time': 0, 'world': 1, 'x_pos': 594, 'x_pos_screen': 79, 'y_pos': 102}\n"
          ]
        }
      ]
    },
    {
      "cell_type": "markdown",
      "metadata": {
        "id": "zk-2_EovUAuw"
      },
      "source": [
        "**Preprocessing**\n"
      ]
    },
    {
      "cell_type": "markdown",
      "metadata": {
        "id": "AYS0x9oUclTe"
      },
      "source": [
        "``SkipFrame`` ข้ามเฟรมไป n เฟรม และในเฟรมที่ n เอา reward ของเฟรมที่ข้ามมมารวมกัน\n",
        "\n",
        "``CropOutUnnecessary`` ตัดฉากบางส่วนออก\n",
        "\n",
        "``GrayScale`` เปลี่ยนสี rgb เป็น gray scale\n",
        "\n",
        "``Resize`` ลดขนาด environment ลง\n",
        "\n",
        "``FrameStack`` เอาเฟรมที่ต่อเนื่องมารวมกันเป็น environment เดียว\n",
        "\n",
        "``CustomReward`` สร้างระบบ"
      ]
    },
    {
      "cell_type": "code",
      "metadata": {
        "id": "DdUYcozbUAC6"
      },
      "source": [
        "class SkipFrame(gym.Wrapper):\n",
        "  def __init__(self, env, skip):\n",
        "    super().__init__(env)\n",
        "    self._skip = skip\n",
        "\n",
        "  def step(self, action):\n",
        "    total_reward = 0.0\n",
        "    done = False\n",
        "    for i in range(self._skip):\n",
        "        observation, reward, done, info = self.env.step(action)\n",
        "        total_reward += reward\n",
        "        if done:\n",
        "            break\n",
        "    return observation, total_reward, done, info\n",
        "\n",
        "\n",
        "class CropOutUnnecessary(gym.ObservationWrapper):\n",
        "  def __init__(self, env):\n",
        "    super().__init__(env)\n",
        "    obs_shape = (150, 200, 3)\n",
        "    self.observation_space = Box(low=0, high=255, shape=obs_shape, dtype=np.uint8)\n",
        "\n",
        "\n",
        "  def observation(self, observation):\n",
        "    return observation[70:220, :200]\n",
        "\n",
        "\n",
        "class GrayScale(gym.ObservationWrapper):\n",
        "  def __init__(self, env):\n",
        "    super().__init__(env)\n",
        "    obs_shape = self.observation_space.shape[:2]\n",
        "    self.observation_space = Box(low=0, high=255, shape=obs_shape, dtype=np.uint8)\n",
        "\n",
        "  def permute_orientation(self, observation):\n",
        "    observation = np.transpose(observation, (2, 0, 1))\n",
        "    observation = torch.tensor(observation.copy(), dtype=torch.float)\n",
        "    return observation\n",
        "\n",
        "  def observation(self, observation):\n",
        "    observation = self.permute_orientation(observation)\n",
        "    transform = T.Grayscale()\n",
        "    observation = transform(observation)\n",
        "    return observation\n",
        "\n",
        "\n",
        "class Resize(gym.ObservationWrapper):\n",
        "  def __init__(self, env, shape):\n",
        "    super().__init__(env)\n",
        "    self.shape = (shape, shape)\n",
        "\n",
        "    obs_shape = self.shape + self.observation_space.shape[2:]\n",
        "    self.observation_space = Box(low=0, high=255, shape=obs_shape, dtype=np.uint8)\n",
        "\n",
        "  def observation(self, observation):\n",
        "      transforms = T.Compose(\n",
        "          [T.Resize(self.shape), T.Normalize(0, 255)]\n",
        "      )\n",
        "      observation = transforms(observation).squeeze(0)\n",
        "      return observation\n",
        "\n",
        "\n",
        "class CustomReward(Wrapper):\n",
        "  def __init__(self, env):\n",
        "    super().__init__(env)\n",
        "    self._current_score = 0\n",
        "\n",
        "  def step(self, action):\n",
        "    observation, reward, done, info = self.env.step(action)\n",
        "    reward += (info['score'] - self._current_score) / 40\n",
        "    self._current_score = info['score']\n",
        "    if done:\n",
        "      if info['flag_get']:\n",
        "        reward += 150\n",
        "      else:\n",
        "        reward -= 100\n",
        "\n",
        "    return observation, reward, done, info"
      ],
      "execution_count": null,
      "outputs": []
    },
    {
      "cell_type": "markdown",
      "metadata": {
        "id": "v6pDmSBrzi2m"
      },
      "source": [
        "หลังจากปรับแต่ง environment แล้ว จะอยู่ในขนาด ``(4, 64, 64)`` ซึ่งคือ 4 เฟรม ขนาด 64x64 พิกเซล\n",
        "\n"
      ]
    },
    {
      "cell_type": "code",
      "metadata": {
        "colab": {
          "base_uri": "https://localhost:8080/"
        },
        "id": "pQc5GWo45ed4",
        "outputId": "09eac910-5e1e-40fe-abb1-5927c12fb28c"
      },
      "source": [
        "def wrap_environment(env, record_every=100):\n",
        "  # อัดวีดิโอทุกๆ 100 episode\n",
        "  env = Monitor(\n",
        "      env,\n",
        "      './video',\n",
        "      force=True,\n",
        "      video_callable=lambda episode_id: episode_id % record_every==0\n",
        "  )\n",
        "\n",
        "  # Action ของมาริโอ้\n",
        "  #   0. ไม่ทำอะไร\n",
        "  #   1. ไปทางขวา\n",
        "  #   2  กระโดดไปทางขวา\n",
        "  #   3. วิ่งไปทางขวา\n",
        "  #   4. วิ่งกระโดดไปทางขวา\n",
        "  env = JoypadSpace(env, RIGHT_ONLY)\n",
        "  \n",
        "  env = SkipFrame(env, skip=4)\n",
        "  env = CropOutUnnecessary(env)\n",
        "  env = GrayScale(env)\n",
        "  env = Resize(env, shape=64)\n",
        "  env = FrameStack(env, num_stack=4)\n",
        "  env = CustomReward(env)\n",
        "\n",
        "  return env\n",
        "\n",
        "# รวมตัวปรับแต่งทั้งหมดเข้ากับ environment\n",
        "env = wrap_environment(env)\n",
        "env.reset().shape"
      ],
      "execution_count": null,
      "outputs": [
        {
          "output_type": "execute_result",
          "data": {
            "text/plain": [
              "(4, 64, 64)"
            ]
          },
          "metadata": {},
          "execution_count": 16
        }
      ]
    },
    {
      "cell_type": "markdown",
      "metadata": {
        "id": "kgZhMLDUO_el"
      },
      "source": [
        "**Agent Mario**"
      ]
    },
    {
      "cell_type": "code",
      "metadata": {
        "id": "HOt9AZ8-vBv8"
      },
      "source": [
        "class Mario():\n",
        "  def __init__(self, state_dim, action_dim, exploration_rate_decay=0.99999):\n",
        "    self.state_dim = state_dim\n",
        "    self.action_dim = action_dim\n",
        "    self.exploration_rate = 1\n",
        "    self.exploration_rate_decay = exploration_rate_decay\n",
        "    self.exploration_rate_min = 0.1\n",
        "    self.gamma = 0.9\n",
        "    self.memory = deque(maxlen=100000)\n",
        "    self.batch_size = 32\n",
        "    self.memory_max = 25000\n",
        "    self.learning_rate = 0.0005\n",
        "    self.learn_every = 3\n",
        "    self.experience_min = 50\n",
        "    self.measure_step = 0\n",
        "    self.cuda_available = torch.cuda.is_available()\n",
        "\n",
        "    # Model online และ target\n",
        "    self.net = DDQN(self.state_dim, self.action_dim).float()\n",
        "    if self.cuda_available:\n",
        "      self.net = self.net.to(device='cuda')\n",
        "\n",
        "    self.optimizer = torch.optim.Adam(self.net.parameters(), lr=self.learning_rate)\n",
        "    self.loss_function = torch.nn.SmoothL1Loss()\n",
        "\n",
        "  def act(self, state):\n",
        "    # Explore\n",
        "    if self.exploration_rate > np.random.rand():\n",
        "      action = np.random.randint(self.action_dim)\n",
        "\n",
        "    # Exploit\n",
        "    else:\n",
        "      state = state.__array__()\n",
        "\n",
        "      if self.cuda_available:\n",
        "        state = torch.tensor(state).cuda()\n",
        "      else:\n",
        "        state = torch.tensor(state)\n",
        "\n",
        "      state = state.unsqueeze(0)\n",
        "      \n",
        "      action = self.net(state, model='online')\n",
        "      \n",
        "      action = torch.argmax(action, axis=1).item()\n",
        "\n",
        "    # ลด exploration rate\n",
        "    if self.exploration_rate > self.exploration_rate_min:\n",
        "      self.exploration_rate *= self.exploration_rate_decay\n",
        "\n",
        "    self.measure_step += 1\n",
        "\n",
        "    return action\n",
        "\n",
        "  # ทำ Experience replay และทำการปรับค่า weight\n",
        "  def learn(self):\n",
        "    states, next_states, actions, rewards, done = self.recall()\n",
        "\n",
        "    q_values = self.net(states, model='online')\n",
        "    next_online_q_values = self.net(next_states, model='online')\n",
        "    next_target_q_values = self.net(next_states, model='target')\n",
        "\n",
        "    q_value = q_values.gather(1, actions.unsqueeze(1)).squeeze(1)\n",
        "    next_online_q_value = next_target_q_values.gather(1, torch.max(next_online_q_values, 1)[1].unsqueeze(1)).squeeze(1)\n",
        "    expected_q_value = rewards + self.gamma * next_online_q_value * (1 - done.float())\n",
        "\n",
        "    loss = self.loss_function(q_value, expected_q_value)\n",
        "    self.optimizer.zero_grad()\n",
        "    loss.backward()\n",
        "    self.optimizer.step()\n",
        "\n",
        "    return loss\n",
        "  \n",
        "  # เก็บข้อมูลในทุกๆ action\n",
        "  def remember(self, state, next_state, action, reward, done):\n",
        "    state = state.__array__()\n",
        "    next_state = next_state.__array__()\n",
        "    \n",
        "    if self.cuda_available:\n",
        "      state = torch.tensor(state).cuda()\n",
        "      next_state = torch.tensor(next_state).cuda()\n",
        "      action = torch.tensor([action]).cuda()\n",
        "      reward = torch.tensor([reward]).cuda()\n",
        "      done = torch.tensor([done]).cuda()\n",
        "    else:\n",
        "      state = torch.tensor(state)\n",
        "      next_state = torch.tensor(next_state)\n",
        "      action = torch.tensor([action])\n",
        "      reward = torch.tensor([reward])\n",
        "      done = torch.tensor([done])\n",
        "\n",
        "    self.memory.append((state, next_state, action, reward, done,))\n",
        "\n",
        "  # เรียกดูข้อมูลที่เก็บไว้\n",
        "  def recall(self):\n",
        "    batch = random.sample(self.memory, self.batch_size)\n",
        "\n",
        "    # ลบ memory ทิ้งเมื่อ memory เกิน memory_max เพื่อลดการใช้ RAM\n",
        "    if len(self.memory) >= self.memory_max:\n",
        "      self.memory.clear()\n",
        "\n",
        "    state, next_state, action, reward, done = map(torch.stack, zip(*batch))\n",
        "    return state, next_state, action.squeeze(), reward.squeeze(), done.squeeze()\n",
        "\n",
        "  # update weight .ให้ model target\n",
        "  def update_target_network(self):\n",
        "    self.net.target.load_state_dict(self.net.online.state_dict())\n"
      ],
      "execution_count": null,
      "outputs": []
    },
    {
      "cell_type": "markdown",
      "metadata": {
        "id": "YMb5KPnmPJfF"
      },
      "source": [
        "**Duble Deep Q Network**"
      ]
    },
    {
      "cell_type": "code",
      "metadata": {
        "id": "zJ2f0XCx3Wn2"
      },
      "source": [
        "class DDQN(nn.Module):\n",
        "  def __init__(self, input_dim, output_dim):\n",
        "    super().__init__()\n",
        "\n",
        "    # conv2d x3 --> linear x2 --> output\n",
        "    self.online = nn.Sequential(\n",
        "        nn.Conv2d(in_channels=input_dim[0], out_channels=32, kernel_size=8, stride=4),\n",
        "        nn.ReLU(),\n",
        "        nn.Conv2d(in_channels=32, out_channels=64, kernel_size=4, stride=2),\n",
        "        nn.ReLU(),\n",
        "        nn.Conv2d(in_channels=64, out_channels=64, kernel_size=3, stride=1),\n",
        "        nn.ReLU(),\n",
        "        nn.Flatten(),\n",
        "        nn.Linear(1024, 512),\n",
        "        nn.ReLU(),\n",
        "        nn.Linear(512, output_dim),\n",
        "    )\n",
        "\n",
        "    # ก๊อปปี้ model target จาก model online\n",
        "    self.target = copy.deepcopy(self.online)\n",
        "\n",
        "    # ตั้งให้ model target ไม่เปลี่ยนแปลง\n",
        "    for p in self.target.parameters():\n",
        "      p.requires_grad = False\n",
        "\n",
        "  def forward(self, input, model):\n",
        "    if model == 'online':\n",
        "      return self.online(input)\n",
        "    elif model == 'target':\n",
        "      return self.target(input)\n"
      ],
      "execution_count": null,
      "outputs": []
    },
    {
      "cell_type": "markdown",
      "metadata": {
        "id": "gaiGjPOPMM_G"
      },
      "source": [
        "**Analysis**"
      ]
    },
    {
      "cell_type": "code",
      "metadata": {
        "id": "_TN1rMow6PCR"
      },
      "source": [
        "class Statistic():\n",
        "  def __init__(self):\n",
        "    self._flags_count = 0\n",
        "    self._accumulate_rewards = deque()\n",
        "    self._accumulate_losses = deque()\n",
        "    self._best_score = 0\n",
        "\n",
        "  # เก็บค่าผลลัพธ์ต่างๆ\n",
        "  def update(self, flag_get, reward_list, loss_list):\n",
        "    new_reward = sum(reward_list)\n",
        "    self._best_score = max(new_reward, self._best_score)\n",
        "    self._flags_count += flag_get\n",
        "    self._accumulate_rewards.append(new_reward)\n",
        "    if loss_list:\n",
        "      self._accumulate_losses.append(sum(loss_list) / len(loss_list))\n",
        "\n",
        "  def average_score(self):\n",
        "    return sum(self._accumulate_rewards) / len(self._accumulate_rewards)\n",
        "\n",
        "  def average_loss(self):\n",
        "    return sum(self._accumulate_losses) / len(self._accumulate_losses)\n",
        "\n",
        "  def __str__(self):\n",
        "    return f'Best score: {self._best_score}\\nAverage score: {self.average_score()}\\nTotal flags count: {self._flags_count}\\nAverage loss: {self.average_loss()}'\n",
        "\n",
        "  # พล็อตกราฟ\n",
        "  def plot_stat(self):\n",
        "    plt.figure(1, figsize=(22, 15))\n",
        "\n",
        "    plt.subplot(211)\n",
        "    plt.plot(self._accumulate_rewards)\n",
        "    plt.grid()\n",
        "    plt.title('Reward per episode')\n",
        "    plt.xlabel('Episode')\n",
        "    plt.ylabel('Reward')\n",
        "\n",
        "    plt.subplot(212)\n",
        "    plt.plot(self._accumulate_losses)\n",
        "    plt.title('Loss per episode')\n",
        "    plt.grid()\n",
        "    plt.xlabel('Episode')\n",
        "    plt.ylabel('Loss')\n",
        "\n",
        "    plt.show()\n"
      ],
      "execution_count": null,
      "outputs": []
    },
    {
      "cell_type": "markdown",
      "metadata": {
        "id": "es9nlo3GPUXh"
      },
      "source": [
        "**สร้าง Agent และ Analyzer**"
      ]
    },
    {
      "cell_type": "code",
      "metadata": {
        "colab": {
          "base_uri": "https://localhost:8080/"
        },
        "id": "DfK4_qH2OAIw",
        "outputId": "49e412bd-786f-4eac-fb90-9871aaa47b8b"
      },
      "source": [
        "MAiRO = Mario(state_dim=(4, 64, 64), action_dim=env.action_space.n)\n",
        "analyzer = Statistic()\n",
        "MAiRO.net"
      ],
      "execution_count": null,
      "outputs": [
        {
          "output_type": "execute_result",
          "data": {
            "text/plain": [
              "DDQN(\n",
              "  (online): Sequential(\n",
              "    (0): Conv2d(4, 32, kernel_size=(8, 8), stride=(4, 4))\n",
              "    (1): ReLU()\n",
              "    (2): Conv2d(32, 64, kernel_size=(4, 4), stride=(2, 2))\n",
              "    (3): ReLU()\n",
              "    (4): Conv2d(64, 64, kernel_size=(3, 3), stride=(1, 1))\n",
              "    (5): ReLU()\n",
              "    (6): Flatten(start_dim=1, end_dim=-1)\n",
              "    (7): Linear(in_features=1024, out_features=512, bias=True)\n",
              "    (8): ReLU()\n",
              "    (9): Linear(in_features=512, out_features=5, bias=True)\n",
              "  )\n",
              "  (target): Sequential(\n",
              "    (0): Conv2d(4, 32, kernel_size=(8, 8), stride=(4, 4))\n",
              "    (1): ReLU()\n",
              "    (2): Conv2d(32, 64, kernel_size=(4, 4), stride=(2, 2))\n",
              "    (3): ReLU()\n",
              "    (4): Conv2d(64, 64, kernel_size=(3, 3), stride=(1, 1))\n",
              "    (5): ReLU()\n",
              "    (6): Flatten(start_dim=1, end_dim=-1)\n",
              "    (7): Linear(in_features=1024, out_features=512, bias=True)\n",
              "    (8): ReLU()\n",
              "    (9): Linear(in_features=512, out_features=5, bias=True)\n",
              "  )\n",
              ")"
            ]
          },
          "metadata": {},
          "execution_count": 17
        }
      ]
    },
    {
      "cell_type": "markdown",
      "metadata": {
        "id": "IyOznpeeXcup"
      },
      "source": [
        "**Load Trained Params**"
      ]
    },
    {
      "cell_type": "code",
      "metadata": {
        "id": "wbf0-GnNXJXS"
      },
      "source": [
        "# โหลด model ที่เทรนไปแล้ว\n",
        "if torch.cuda.is_available():\n",
        "  MAiRO.net.online.load_state_dict(torch.load('./trained_parameters'))\n",
        "  MAiRO.net.target.load_state_dict(torch.load('./trained_parameters'))\n",
        "else:\n",
        "  MAiRO.net.online.load_state_dict(torch.load('./trained_parameters', map_location=torch.device('cpu')))\n",
        "  MAiRO.net.target.load_state_dict(torch.load('./trained_parameters', map_location=torch.device('cpu')))"
      ],
      "execution_count": null,
      "outputs": []
    },
    {
      "cell_type": "markdown",
      "metadata": {
        "id": "EsmNp0n3PhcQ"
      },
      "source": [
        "**Start Training**"
      ]
    },
    {
      "cell_type": "code",
      "metadata": {
        "colab": {
          "base_uri": "https://localhost:8080/"
        },
        "id": "EKS1h05juM18",
        "outputId": "6fe3008e-0e96-43b6-990e-4635cb7c148c"
      },
      "source": [
        "episodes = 3000\n",
        "line = '='*125\n",
        "for e in range(1, episodes+1):\n",
        "  state = env.reset()\n",
        "  total_rewards = []\n",
        "  total_losses = []\n",
        "  while True:\n",
        "\n",
        "    # Get action\n",
        "    action = MAiRO.act(state)\n",
        "\n",
        "    # Get reward\n",
        "    next_state, reward, done, info = env.step(action)\n",
        "\n",
        "    # Remember\n",
        "    MAiRO.remember(state, next_state, action, reward, done)\n",
        "\n",
        "    # Learn every 3 actions taken and do action more than 50 times\n",
        "    # เรียนทุกๆ 3 action และเมื่อทำ action ไปแล้วมากกว่า 50 ครั้ง\n",
        "    if len(MAiRO.memory) > MAiRO.experience_min:\n",
        "      if MAiRO.measure_step % MAiRO.learn_every == 0:\n",
        "        loss = MAiRO.learn()\n",
        "\n",
        "        # Record loss\n",
        "        total_losses.append(loss)\n",
        "\n",
        "    # Update state\n",
        "    state = next_state\n",
        "\n",
        "    # Record reward\n",
        "    total_rewards.append(reward)\n",
        "\n",
        "    # เช็คว่าเกมจบหรือยัง\n",
        "    if done or info['flag_get']:\n",
        "      break\n",
        "\n",
        "  # อัพเดต target ทุกๆ episode จบ\n",
        "  MAiRO.update_target_network()\n",
        "\n",
        "  # ได้ธงหรือเปล่า\n",
        "  if info['flag_get']:\n",
        "    flag = 'Yes!!!'\n",
        "  else:\n",
        "    flag = 'No...'\n",
        "\n",
        "  # วิเคราะห์ผลลัพธ์\n",
        "  analyzer.update(info['flag_get'], total_rewards, total_losses)\n",
        "\n",
        "  if e%100 == 0 or e == 1:\n",
        "    print(line)\n",
        "    print(f'Episode: {e}/{episodes}, Score: {sum(total_rewards)}, Epsilon: {round(MAiRO.exploration_rate, 5)}, Flag: {flag}, Time: {datetime.datetime.now().strftime(\"%x %X\")}')\n",
        "    print(line)\n",
        "    print()"
      ],
      "execution_count": null,
      "outputs": [
        {
          "metadata": {
            "tags": null
          },
          "name": "stderr",
          "output_type": "stream",
          "text": [
            "/usr/local/lib/python3.7/dist-packages/gym_super_mario_bros/smb_env.py:148: RuntimeWarning: overflow encountered in ubyte_scalars\n",
            "  return (self.ram[0x86] - self.ram[0x071c]) % 256\n"
          ]
        },
        {
          "metadata": {
            "tags": null
          },
          "name": "stdout",
          "output_type": "stream",
          "text": [
            "=============================================================================================================================\n",
            "Episode: 1/3000, Score: 622.5, Epsilon: 0.99358, Flag: No..., Time: 11/28/21 03:39:16\n",
            "=============================================================================================================================\n",
            "\n"
          ]
        },
        {
          "metadata": {
            "tags": null
          },
          "name": "stderr",
          "output_type": "stream",
          "text": [
            "/usr/local/lib/python3.7/dist-packages/gym_super_mario_bros/smb_env.py:148: RuntimeWarning: overflow encountered in ubyte_scalars\n",
            "  return (self.ram[0x86] - self.ram[0x071c]) % 256\n"
          ]
        },
        {
          "metadata": {
            "tags": null
          },
          "name": "stdout",
          "output_type": "stream",
          "text": [
            "=============================================================================================================================\n",
            "Episode: 100/3000, Score: 528.5, Epsilon: 0.76163, Flag: No..., Time: 11/28/21 03:45:02\n",
            "=============================================================================================================================\n",
            "\n"
          ]
        },
        {
          "metadata": {
            "tags": null
          },
          "name": "stderr",
          "output_type": "stream",
          "text": [
            "/usr/local/lib/python3.7/dist-packages/gym_super_mario_bros/smb_env.py:148: RuntimeWarning: overflow encountered in ubyte_scalars\n",
            "  return (self.ram[0x86] - self.ram[0x071c]) % 256\n"
          ]
        },
        {
          "metadata": {
            "tags": null
          },
          "name": "stdout",
          "output_type": "stream",
          "text": [
            "=============================================================================================================================\n",
            "Episode: 200/3000, Score: 671.5, Epsilon: 0.6383, Flag: No..., Time: 11/28/21 03:48:58\n",
            "=============================================================================================================================\n",
            "\n"
          ]
        },
        {
          "metadata": {
            "tags": null
          },
          "name": "stderr",
          "output_type": "stream",
          "text": [
            "/usr/local/lib/python3.7/dist-packages/gym_super_mario_bros/smb_env.py:148: RuntimeWarning: overflow encountered in ubyte_scalars\n",
            "  return (self.ram[0x86] - self.ram[0x071c]) % 256\n"
          ]
        },
        {
          "metadata": {
            "tags": null
          },
          "name": "stdout",
          "output_type": "stream",
          "text": [
            "=============================================================================================================================\n",
            "Episode: 300/3000, Score: 503.0, Epsilon: 0.53179, Flag: No..., Time: 11/28/21 03:53:08\n",
            "=============================================================================================================================\n",
            "\n"
          ]
        },
        {
          "metadata": {
            "tags": null
          },
          "name": "stderr",
          "output_type": "stream",
          "text": [
            "/usr/local/lib/python3.7/dist-packages/gym_super_mario_bros/smb_env.py:148: RuntimeWarning: overflow encountered in ubyte_scalars\n",
            "  return (self.ram[0x86] - self.ram[0x071c]) % 256\n"
          ]
        },
        {
          "metadata": {
            "tags": null
          },
          "name": "stdout",
          "output_type": "stream",
          "text": [
            "=============================================================================================================================\n",
            "Episode: 400/3000, Score: 508.0, Epsilon: 0.43653, Flag: No..., Time: 11/28/21 03:57:43\n",
            "=============================================================================================================================\n",
            "\n"
          ]
        },
        {
          "metadata": {
            "tags": null
          },
          "name": "stderr",
          "output_type": "stream",
          "text": [
            "/usr/local/lib/python3.7/dist-packages/gym_super_mario_bros/smb_env.py:148: RuntimeWarning: overflow encountered in ubyte_scalars\n",
            "  return (self.ram[0x86] - self.ram[0x071c]) % 256\n"
          ]
        },
        {
          "metadata": {
            "tags": null
          },
          "name": "stdout",
          "output_type": "stream",
          "text": [
            "=============================================================================================================================\n",
            "Episode: 500/3000, Score: 1584.5, Epsilon: 0.37046, Flag: No..., Time: 11/28/21 04:01:37\n",
            "=============================================================================================================================\n",
            "\n"
          ]
        },
        {
          "metadata": {
            "tags": null
          },
          "name": "stderr",
          "output_type": "stream",
          "text": [
            "/usr/local/lib/python3.7/dist-packages/gym_super_mario_bros/smb_env.py:148: RuntimeWarning: overflow encountered in ubyte_scalars\n",
            "  return (self.ram[0x86] - self.ram[0x071c]) % 256\n"
          ]
        },
        {
          "metadata": {
            "tags": null
          },
          "name": "stdout",
          "output_type": "stream",
          "text": [
            "=============================================================================================================================\n",
            "Episode: 600/3000, Score: 482.0, Epsilon: 0.32065, Flag: No..., Time: 11/28/21 04:05:12\n",
            "=============================================================================================================================\n",
            "\n"
          ]
        },
        {
          "metadata": {
            "tags": null
          },
          "name": "stderr",
          "output_type": "stream",
          "text": [
            "/usr/local/lib/python3.7/dist-packages/gym_super_mario_bros/smb_env.py:148: RuntimeWarning: overflow encountered in ubyte_scalars\n",
            "  return (self.ram[0x86] - self.ram[0x071c]) % 256\n"
          ]
        },
        {
          "metadata": {
            "tags": null
          },
          "name": "stdout",
          "output_type": "stream",
          "text": [
            "=============================================================================================================================\n",
            "Episode: 700/3000, Score: 147.0, Epsilon: 0.27454, Flag: No..., Time: 11/28/21 04:08:57\n",
            "=============================================================================================================================\n",
            "\n"
          ]
        },
        {
          "metadata": {
            "tags": null
          },
          "name": "stderr",
          "output_type": "stream",
          "text": [
            "/usr/local/lib/python3.7/dist-packages/gym_super_mario_bros/smb_env.py:148: RuntimeWarning: overflow encountered in ubyte_scalars\n",
            "  return (self.ram[0x86] - self.ram[0x071c]) % 256\n"
          ]
        },
        {
          "metadata": {
            "tags": null
          },
          "name": "stdout",
          "output_type": "stream",
          "text": [
            "=============================================================================================================================\n",
            "Episode: 800/3000, Score: 151.0, Epsilon: 0.23834, Flag: No..., Time: 11/28/21 04:12:21\n",
            "=============================================================================================================================\n",
            "\n"
          ]
        },
        {
          "metadata": {
            "tags": null
          },
          "name": "stderr",
          "output_type": "stream",
          "text": [
            "/usr/local/lib/python3.7/dist-packages/gym_super_mario_bros/smb_env.py:148: RuntimeWarning: overflow encountered in ubyte_scalars\n",
            "  return (self.ram[0x86] - self.ram[0x071c]) % 256\n"
          ]
        },
        {
          "metadata": {
            "tags": null
          },
          "name": "stdout",
          "output_type": "stream",
          "text": [
            "=============================================================================================================================\n",
            "Episode: 900/3000, Score: 704.0, Epsilon: 0.20495, Flag: No..., Time: 11/28/21 04:16:03\n",
            "=============================================================================================================================\n",
            "\n"
          ]
        },
        {
          "metadata": {
            "tags": null
          },
          "name": "stderr",
          "output_type": "stream",
          "text": [
            "/usr/local/lib/python3.7/dist-packages/gym_super_mario_bros/smb_env.py:148: RuntimeWarning: overflow encountered in ubyte_scalars\n",
            "  return (self.ram[0x86] - self.ram[0x071c]) % 256\n"
          ]
        },
        {
          "metadata": {
            "tags": null
          },
          "name": "stdout",
          "output_type": "stream",
          "text": [
            "=============================================================================================================================\n",
            "Episode: 1000/3000, Score: 713.0, Epsilon: 0.18149, Flag: No..., Time: 11/28/21 04:19:03\n",
            "=============================================================================================================================\n",
            "\n"
          ]
        },
        {
          "metadata": {
            "tags": null
          },
          "name": "stderr",
          "output_type": "stream",
          "text": [
            "/usr/local/lib/python3.7/dist-packages/gym_super_mario_bros/smb_env.py:148: RuntimeWarning: overflow encountered in ubyte_scalars\n",
            "  return (self.ram[0x86] - self.ram[0x071c]) % 256\n"
          ]
        },
        {
          "metadata": {
            "tags": null
          },
          "name": "stdout",
          "output_type": "stream",
          "text": [
            "=============================================================================================================================\n",
            "Episode: 1100/3000, Score: 554.0, Epsilon: 0.15773, Flag: No..., Time: 11/28/21 04:22:30\n",
            "=============================================================================================================================\n",
            "\n"
          ]
        },
        {
          "metadata": {
            "tags": null
          },
          "name": "stderr",
          "output_type": "stream",
          "text": [
            "/usr/local/lib/python3.7/dist-packages/gym_super_mario_bros/smb_env.py:148: RuntimeWarning: overflow encountered in ubyte_scalars\n",
            "  return (self.ram[0x86] - self.ram[0x071c]) % 256\n"
          ]
        },
        {
          "metadata": {
            "tags": null
          },
          "name": "stdout",
          "output_type": "stream",
          "text": [
            "=============================================================================================================================\n",
            "Episode: 1200/3000, Score: 1226.5, Epsilon: 0.14005, Flag: No..., Time: 11/28/21 04:25:29\n",
            "=============================================================================================================================\n",
            "\n"
          ]
        },
        {
          "metadata": {
            "tags": null
          },
          "name": "stderr",
          "output_type": "stream",
          "text": [
            "/usr/local/lib/python3.7/dist-packages/gym_super_mario_bros/smb_env.py:148: RuntimeWarning: overflow encountered in ubyte_scalars\n",
            "  return (self.ram[0x86] - self.ram[0x071c]) % 256\n"
          ]
        },
        {
          "metadata": {
            "tags": null
          },
          "name": "stdout",
          "output_type": "stream",
          "text": [
            "=============================================================================================================================\n",
            "Episode: 1300/3000, Score: 548.0, Epsilon: 0.1185, Flag: No..., Time: 11/28/21 04:29:38\n",
            "=============================================================================================================================\n",
            "\n"
          ]
        },
        {
          "metadata": {
            "tags": null
          },
          "name": "stderr",
          "output_type": "stream",
          "text": [
            "/usr/local/lib/python3.7/dist-packages/gym_super_mario_bros/smb_env.py:148: RuntimeWarning: overflow encountered in ubyte_scalars\n",
            "  return (self.ram[0x86] - self.ram[0x071c]) % 256\n"
          ]
        },
        {
          "metadata": {
            "tags": null
          },
          "name": "stdout",
          "output_type": "stream",
          "text": [
            "=============================================================================================================================\n",
            "Episode: 1400/3000, Score: 544.0, Epsilon: 0.10512, Flag: No..., Time: 11/28/21 04:32:38\n",
            "=============================================================================================================================\n",
            "\n"
          ]
        },
        {
          "metadata": {
            "tags": null
          },
          "name": "stderr",
          "output_type": "stream",
          "text": [
            "/usr/local/lib/python3.7/dist-packages/gym_super_mario_bros/smb_env.py:148: RuntimeWarning: overflow encountered in ubyte_scalars\n",
            "  return (self.ram[0x86] - self.ram[0x071c]) % 256\n"
          ]
        },
        {
          "metadata": {
            "tags": null
          },
          "name": "stdout",
          "output_type": "stream",
          "text": [
            "=============================================================================================================================\n",
            "Episode: 1500/3000, Score: 145.0, Epsilon: 0.1, Flag: No..., Time: 11/28/21 04:35:32\n",
            "=============================================================================================================================\n",
            "\n"
          ]
        },
        {
          "metadata": {
            "tags": null
          },
          "name": "stderr",
          "output_type": "stream",
          "text": [
            "/usr/local/lib/python3.7/dist-packages/gym_super_mario_bros/smb_env.py:148: RuntimeWarning: overflow encountered in ubyte_scalars\n",
            "  return (self.ram[0x86] - self.ram[0x071c]) % 256\n"
          ]
        },
        {
          "metadata": {
            "tags": null
          },
          "name": "stdout",
          "output_type": "stream",
          "text": [
            "=============================================================================================================================\n",
            "Episode: 1600/3000, Score: 1334.5, Epsilon: 0.1, Flag: No..., Time: 11/28/21 04:38:49\n",
            "=============================================================================================================================\n",
            "\n"
          ]
        },
        {
          "metadata": {
            "tags": null
          },
          "name": "stderr",
          "output_type": "stream",
          "text": [
            "/usr/local/lib/python3.7/dist-packages/gym_super_mario_bros/smb_env.py:148: RuntimeWarning: overflow encountered in ubyte_scalars\n",
            "  return (self.ram[0x86] - self.ram[0x071c]) % 256\n"
          ]
        },
        {
          "metadata": {
            "tags": null
          },
          "name": "stdout",
          "output_type": "stream",
          "text": [
            "=============================================================================================================================\n",
            "Episode: 1700/3000, Score: 1833.5, Epsilon: 0.1, Flag: No..., Time: 11/28/21 04:42:23\n",
            "=============================================================================================================================\n",
            "\n"
          ]
        },
        {
          "metadata": {
            "tags": null
          },
          "name": "stderr",
          "output_type": "stream",
          "text": [
            "/usr/local/lib/python3.7/dist-packages/gym_super_mario_bros/smb_env.py:148: RuntimeWarning: overflow encountered in ubyte_scalars\n",
            "  return (self.ram[0x86] - self.ram[0x071c]) % 256\n"
          ]
        },
        {
          "metadata": {
            "tags": null
          },
          "name": "stdout",
          "output_type": "stream",
          "text": [
            "=============================================================================================================================\n",
            "Episode: 1800/3000, Score: 957.0, Epsilon: 0.1, Flag: No..., Time: 11/28/21 04:46:09\n",
            "=============================================================================================================================\n",
            "\n"
          ]
        },
        {
          "metadata": {
            "tags": null
          },
          "name": "stderr",
          "output_type": "stream",
          "text": [
            "/usr/local/lib/python3.7/dist-packages/gym_super_mario_bros/smb_env.py:148: RuntimeWarning: overflow encountered in ubyte_scalars\n",
            "  return (self.ram[0x86] - self.ram[0x071c]) % 256\n"
          ]
        },
        {
          "metadata": {
            "tags": null
          },
          "name": "stdout",
          "output_type": "stream",
          "text": [
            "=============================================================================================================================\n",
            "Episode: 1900/3000, Score: 943.0, Epsilon: 0.1, Flag: No..., Time: 11/28/21 04:49:31\n",
            "=============================================================================================================================\n",
            "\n"
          ]
        },
        {
          "metadata": {
            "tags": null
          },
          "name": "stderr",
          "output_type": "stream",
          "text": [
            "/usr/local/lib/python3.7/dist-packages/gym_super_mario_bros/smb_env.py:148: RuntimeWarning: overflow encountered in ubyte_scalars\n",
            "  return (self.ram[0x86] - self.ram[0x071c]) % 256\n"
          ]
        },
        {
          "metadata": {
            "tags": null
          },
          "name": "stdout",
          "output_type": "stream",
          "text": [
            "=============================================================================================================================\n",
            "Episode: 2000/3000, Score: 1847.0, Epsilon: 0.1, Flag: No..., Time: 11/28/21 04:53:08\n",
            "=============================================================================================================================\n",
            "\n"
          ]
        },
        {
          "metadata": {
            "tags": null
          },
          "name": "stderr",
          "output_type": "stream",
          "text": [
            "/usr/local/lib/python3.7/dist-packages/gym_super_mario_bros/smb_env.py:148: RuntimeWarning: overflow encountered in ubyte_scalars\n",
            "  return (self.ram[0x86] - self.ram[0x071c]) % 256\n"
          ]
        },
        {
          "metadata": {
            "tags": null
          },
          "name": "stdout",
          "output_type": "stream",
          "text": [
            "=============================================================================================================================\n",
            "Episode: 2100/3000, Score: 152.0, Epsilon: 0.1, Flag: No..., Time: 11/28/21 04:56:51\n",
            "=============================================================================================================================\n",
            "\n"
          ]
        },
        {
          "metadata": {
            "tags": null
          },
          "name": "stderr",
          "output_type": "stream",
          "text": [
            "/usr/local/lib/python3.7/dist-packages/gym_super_mario_bros/smb_env.py:148: RuntimeWarning: overflow encountered in ubyte_scalars\n",
            "  return (self.ram[0x86] - self.ram[0x071c]) % 256\n"
          ]
        },
        {
          "metadata": {
            "tags": null
          },
          "name": "stdout",
          "output_type": "stream",
          "text": [
            "=============================================================================================================================\n",
            "Episode: 2200/3000, Score: 1612.0, Epsilon: 0.1, Flag: No..., Time: 11/28/21 05:00:27\n",
            "=============================================================================================================================\n",
            "\n"
          ]
        },
        {
          "metadata": {
            "tags": null
          },
          "name": "stderr",
          "output_type": "stream",
          "text": [
            "/usr/local/lib/python3.7/dist-packages/gym_super_mario_bros/smb_env.py:148: RuntimeWarning: overflow encountered in ubyte_scalars\n",
            "  return (self.ram[0x86] - self.ram[0x071c]) % 256\n"
          ]
        },
        {
          "metadata": {
            "tags": null
          },
          "name": "stdout",
          "output_type": "stream",
          "text": [
            "=============================================================================================================================\n",
            "Episode: 2300/3000, Score: 138.0, Epsilon: 0.1, Flag: No..., Time: 11/28/21 05:04:09\n",
            "=============================================================================================================================\n",
            "\n"
          ]
        },
        {
          "metadata": {
            "tags": null
          },
          "name": "stderr",
          "output_type": "stream",
          "text": [
            "/usr/local/lib/python3.7/dist-packages/gym_super_mario_bros/smb_env.py:148: RuntimeWarning: overflow encountered in ubyte_scalars\n",
            "  return (self.ram[0x86] - self.ram[0x071c]) % 256\n"
          ]
        },
        {
          "metadata": {
            "tags": null
          },
          "name": "stdout",
          "output_type": "stream",
          "text": [
            "=============================================================================================================================\n",
            "Episode: 2400/3000, Score: 931.0, Epsilon: 0.1, Flag: No..., Time: 11/28/21 05:08:20\n",
            "=============================================================================================================================\n",
            "\n"
          ]
        },
        {
          "metadata": {
            "tags": null
          },
          "name": "stderr",
          "output_type": "stream",
          "text": [
            "/usr/local/lib/python3.7/dist-packages/gym_super_mario_bros/smb_env.py:148: RuntimeWarning: overflow encountered in ubyte_scalars\n",
            "  return (self.ram[0x86] - self.ram[0x071c]) % 256\n"
          ]
        },
        {
          "metadata": {
            "tags": null
          },
          "name": "stdout",
          "output_type": "stream",
          "text": [
            "=============================================================================================================================\n",
            "Episode: 2500/3000, Score: 1336.5, Epsilon: 0.1, Flag: No..., Time: 11/28/21 05:12:11\n",
            "=============================================================================================================================\n",
            "\n"
          ]
        },
        {
          "output_type": "stream",
          "name": "stderr",
          "text": [
            "/usr/local/lib/python3.7/dist-packages/gym_super_mario_bros/smb_env.py:148: RuntimeWarning: overflow encountered in ubyte_scalars\n",
            "  return (self.ram[0x86] - self.ram[0x071c]) % 256\n"
          ]
        },
        {
          "output_type": "stream",
          "name": "stdout",
          "text": [
            "=============================================================================================================================\n",
            "Episode: 2600/3000, Score: 1807.5, Epsilon: 0.1, Flag: No..., Time: 11/28/21 05:16:40\n",
            "=============================================================================================================================\n",
            "\n"
          ]
        },
        {
          "output_type": "stream",
          "name": "stderr",
          "text": [
            "/usr/local/lib/python3.7/dist-packages/gym_super_mario_bros/smb_env.py:148: RuntimeWarning: overflow encountered in ubyte_scalars\n",
            "  return (self.ram[0x86] - self.ram[0x071c]) % 256\n"
          ]
        },
        {
          "output_type": "stream",
          "name": "stdout",
          "text": [
            "=============================================================================================================================\n",
            "Episode: 2700/3000, Score: 1241.0, Epsilon: 0.1, Flag: No..., Time: 11/28/21 05:20:21\n",
            "=============================================================================================================================\n",
            "\n"
          ]
        },
        {
          "output_type": "stream",
          "name": "stderr",
          "text": [
            "/usr/local/lib/python3.7/dist-packages/gym_super_mario_bros/smb_env.py:148: RuntimeWarning: overflow encountered in ubyte_scalars\n",
            "  return (self.ram[0x86] - self.ram[0x071c]) % 256\n"
          ]
        },
        {
          "output_type": "stream",
          "name": "stdout",
          "text": [
            "=============================================================================================================================\n",
            "Episode: 2800/3000, Score: 526.5, Epsilon: 0.1, Flag: No..., Time: 11/28/21 05:26:26\n",
            "=============================================================================================================================\n",
            "\n"
          ]
        },
        {
          "output_type": "stream",
          "name": "stderr",
          "text": [
            "/usr/local/lib/python3.7/dist-packages/gym_super_mario_bros/smb_env.py:148: RuntimeWarning: overflow encountered in ubyte_scalars\n",
            "  return (self.ram[0x86] - self.ram[0x071c]) % 256\n"
          ]
        },
        {
          "output_type": "stream",
          "name": "stdout",
          "text": [
            "=============================================================================================================================\n",
            "Episode: 2900/3000, Score: 520.0, Epsilon: 0.1, Flag: No..., Time: 11/28/21 05:30:17\n",
            "=============================================================================================================================\n",
            "\n"
          ]
        },
        {
          "output_type": "stream",
          "name": "stderr",
          "text": [
            "/usr/local/lib/python3.7/dist-packages/gym_super_mario_bros/smb_env.py:148: RuntimeWarning: overflow encountered in ubyte_scalars\n",
            "  return (self.ram[0x86] - self.ram[0x071c]) % 256\n"
          ]
        },
        {
          "output_type": "stream",
          "name": "stdout",
          "text": [
            "=============================================================================================================================\n",
            "Episode: 3000/3000, Score: 944.0, Epsilon: 0.1, Flag: No..., Time: 11/28/21 05:34:11\n",
            "=============================================================================================================================\n",
            "\n"
          ]
        }
      ]
    },
    {
      "cell_type": "markdown",
      "metadata": {
        "id": "uCkPBp8MySYG"
      },
      "source": [
        "# **Result and Discussion**"
      ]
    },
    {
      "cell_type": "markdown",
      "metadata": {
        "id": "iXocA9Gj3Kzu"
      },
      "source": [
        "**วิเคราะห์**"
      ]
    },
    {
      "cell_type": "code",
      "metadata": {
        "colab": {
          "base_uri": "https://localhost:8080/"
        },
        "id": "sa8YLqDP3Q5l",
        "outputId": "5befb965-add5-4591-c2d8-409789e4e46a"
      },
      "source": [
        "print(analyzer)"
      ],
      "execution_count": null,
      "outputs": [
        {
          "output_type": "stream",
          "name": "stdout",
          "text": [
            "Best score: 3236.5\n",
            "Average score: 877.7016666666667\n",
            "Total flags count: 18\n",
            "Average loss: 4.435542131608277\n"
          ]
        }
      ]
    },
    {
      "cell_type": "code",
      "metadata": {
        "colab": {
          "base_uri": "https://localhost:8080/",
          "height": 863
        },
        "id": "NKUjoWprjC5s",
        "outputId": "ee8bc188-ea44-4f78-aeb7-bc97fbf3f76d"
      },
      "source": [
        "analyzer.plot_stat()"
      ],
      "execution_count": null,
      "outputs": [
        {
          "output_type": "display_data",
          "data": {
            "image/png": "[encoded data removed]",
            "text/plain": [
              "<Figure size 1584x1080 with 2 Axes>"
            ]
          },
          "metadata": {
            "needs_background": "light"
          }
        }
      ]
    },
    {
      "cell_type": "markdown",
      "metadata": {
        "id": "ExaExCoVCWwu"
      },
      "source": [
        "**Save Parameters**"
      ]
    },
    {
      "cell_type": "code",
      "metadata": {
        "id": "Jl9WvFYxCWGI"
      },
      "source": [
        "torch.save(MAiRO.net.online.state_dict(), './trained_parameters')"
      ],
      "execution_count": null,
      "outputs": []
    },
    {
      "cell_type": "markdown",
      "metadata": {
        "id": "YL_WC53VCyhY"
      },
      "source": [
        "**ทดสอบรัน model กับ environment ที่ต่างกัน 4 อัน**"
      ]
    },
    {
      "cell_type": "code",
      "metadata": {
        "id": "cmxyj7Z7YPKP"
      },
      "source": [
        "env_1_1 = gym_super_mario_bros.make(\"SuperMarioBros-1-1-v0\")\n",
        "env_1_2 = gym_super_mario_bros.make(\"SuperMarioBros-1-2-v0\")\n",
        "env_1_3 = gym_super_mario_bros.make(\"SuperMarioBros-1-3-v0\")\n",
        "env_1_4 = gym_super_mario_bros.make(\"SuperMarioBros-1-4-v0\")\n",
        "\n",
        "state_1_1 = env_1_1.reset()\n",
        "state_1_2 = env_1_2.reset()\n",
        "state_1_3 = env_1_3.reset()\n",
        "state_1_4 = env_1_4.reset()"
      ],
      "execution_count": null,
      "outputs": []
    },
    {
      "cell_type": "markdown",
      "metadata": {
        "id": "cWXu8HlORHic"
      },
      "source": [
        "**ตัวอย่าง environment ทั้ง 4 อัน**"
      ]
    },
    {
      "cell_type": "code",
      "metadata": {
        "colab": {
          "base_uri": "https://localhost:8080/",
          "height": 624
        },
        "id": "HuXdk-Ea4NoC",
        "outputId": "1242ea95-9fe9-4930-b375-8cd9256d6c45"
      },
      "source": [
        "plt.figure(1, figsize=(18, 10))\n",
        "\n",
        "plt.subplot(221)\n",
        "plt.imshow(state_1_1)\n",
        "plt.title('World 1-1')\n",
        "\n",
        "plt.subplot(222)\n",
        "plt.imshow(state_1_2)\n",
        "plt.title('World 1-2')\n",
        "\n",
        "plt.subplot(223)\n",
        "plt.imshow(state_1_3)\n",
        "plt.title('World 1-3')\n",
        "\n",
        "plt.subplot(224)\n",
        "plt.imshow(state_1_4)\n",
        "plt.title('World 1-4')"
      ],
      "execution_count": null,
      "outputs": [
        {
          "output_type": "execute_result",
          "data": {
            "text/plain": [
              "Text(0.5, 1.0, 'World 1-4')"
            ]
          },
          "metadata": {},
          "execution_count": 35
        },
        {
          "output_type": "display_data",
          "data": {
            "image/png": "[encoded data removed]",
            "text/plain": [
              "<Figure size 1296x720 with 4 Axes>"
            ]
          },
          "metadata": {
            "needs_background": "light"
          }
        }
      ]
    },
    {
      "cell_type": "code",
      "metadata": {
        "id": "t1ftr_T9sro4"
      },
      "source": [
        "env_1_1 = wrap_environment(env_1_1, record_every=10)\n",
        "env_1_2 = wrap_environment(env_1_2, record_every=10)\n",
        "env_1_3 = wrap_environment(env_1_3, record_every=10)\n",
        "env_1_4 = wrap_environment(env_1_4, record_every=10)"
      ],
      "execution_count": null,
      "outputs": []
    },
    {
      "cell_type": "markdown",
      "metadata": {
        "id": "fKBM-40-4-DC"
      },
      "source": [
        "World 1-1"
      ]
    },
    {
      "cell_type": "code",
      "metadata": {
        "colab": {
          "base_uri": "https://localhost:8080/"
        },
        "id": "kXFwhSTKEL1e",
        "outputId": "a7cb7cd9-f728-4d23-ea92-0c3036e2c92b"
      },
      "source": [
        "episodes = 10\n",
        "\n",
        "for e in range(1, episodes+1):\n",
        "  state = env_1_1.reset()\n",
        "  total_reward = 0\n",
        "  while True:\n",
        "    action = MAiRO.act(state)\n",
        "    next_state, reward, done, info = env_1_1.step(action)\n",
        "    state = next_state\n",
        "    total_reward += reward\n",
        "    if done:\n",
        "      break\n",
        "\n",
        "  if info['flag_get']:\n",
        "    flag = 'YES!!!'\n",
        "    flag_count += 1\n",
        "  else:\n",
        "    flag = 'No...'\n",
        "  \n",
        "  print(f'Episode: {e}, Score: {total_reward}, Distance: {info[\"x_pos\"]}, Flag: {flag}, {datetime.datetime.now().strftime(\"%x %X\")}')"
      ],
      "execution_count": null,
      "outputs": [
        {
          "output_type": "stream",
          "name": "stderr",
          "text": [
            "/usr/local/lib/python3.7/dist-packages/gym_super_mario_bros/smb_env.py:148: RuntimeWarning: overflow encountered in ubyte_scalars\n",
            "  return (self.ram[0x86] - self.ram[0x071c]) % 256\n"
          ]
        },
        {
          "output_type": "stream",
          "name": "stdout",
          "text": [
            "Episode: 1, Score: 156.0, Distance: 314, Flag: No..., 11/28/21 05:50:51\n",
            "Episode: 2, Score: 1609.0, Distance: 1793, Flag: No..., 11/28/21 05:50:53\n",
            "Episode: 3, Score: 1589.0, Distance: 1783, Flag: No..., 11/28/21 05:50:55\n",
            "Episode: 4, Score: 1597.5, Distance: 1800, Flag: No..., 11/28/21 05:50:58\n",
            "Episode: 5, Score: 1756.5, Distance: 1958, Flag: No..., 11/28/21 05:51:00\n",
            "Episode: 6, Score: 1469.5, Distance: 1664, Flag: No..., 11/28/21 05:51:02\n",
            "Episode: 7, Score: 1776.0, Distance: 1955, Flag: No..., 11/28/21 05:51:04\n",
            "Episode: 8, Score: 128.5, Distance: 308, Flag: No..., 11/28/21 05:51:05\n",
            "Episode: 9, Score: 1693.5, Distance: 2226, Flag: No..., 11/28/21 05:51:27\n",
            "Episode: 10, Score: 602.0, Distance: 801, Flag: No..., 11/28/21 05:51:28\n"
          ]
        }
      ]
    },
    {
      "cell_type": "markdown",
      "metadata": {
        "id": "ai27N_145D3v"
      },
      "source": [
        "World 1-2"
      ]
    },
    {
      "cell_type": "code",
      "metadata": {
        "colab": {
          "base_uri": "https://localhost:8080/"
        },
        "id": "aFPKEwbaX1hQ",
        "outputId": "9ca98ddb-a923-4a66-fd58-7ac037d54313"
      },
      "source": [
        "episodes = 10\n",
        "\n",
        "for e in range(1, episodes+1):\n",
        "  state = env_1_2.reset()\n",
        "  total_reward = 0\n",
        "  while True:\n",
        "    action = MAiRO.act(state)\n",
        "    next_state, reward, done, info = env_1_2.step(action)\n",
        "    state = next_state\n",
        "    total_reward += reward\n",
        "    if done:\n",
        "      break\n",
        "\n",
        "  if info['flag_get']:\n",
        "    flag = 'YES!!!'\n",
        "    flag_count += 1\n",
        "  else:\n",
        "    flag = 'No...'\n",
        "  \n",
        "  print(f'Episode: {e}, Score: {total_reward}, Distance: {info[\"x_pos\"]}, Flag: {flag}, Time: {datetime.datetime.now().strftime(\"%x %X\")}')"
      ],
      "execution_count": null,
      "outputs": [
        {
          "output_type": "stream",
          "name": "stderr",
          "text": [
            "/usr/local/lib/python3.7/dist-packages/gym_super_mario_bros/smb_env.py:148: RuntimeWarning: overflow encountered in ubyte_scalars\n",
            "  return (self.ram[0x86] - self.ram[0x071c]) % 256\n"
          ]
        },
        {
          "output_type": "stream",
          "name": "stdout",
          "text": [
            "Episode: 1, Score: 633.0, Distance: 850, Flag: No..., Time: 11/28/21 05:51:40\n",
            "Episode: 2, Score: 502.5, Distance: 672, Flag: No..., Time: 11/28/21 05:51:42\n",
            "Episode: 3, Score: 662.5, Distance: 852, Flag: No..., Time: 11/28/21 05:51:44\n",
            "Episode: 4, Score: -203.5, Distance: 354, Flag: No..., Time: 11/28/21 05:52:07\n",
            "Episode: 5, Score: -201.0, Distance: 354, Flag: No..., Time: 11/28/21 05:52:29\n",
            "Episode: 6, Score: 39.5, Distance: 208, Flag: No..., Time: 11/28/21 05:52:30\n",
            "Episode: 7, Score: -193.5, Distance: 354, Flag: No..., Time: 11/28/21 05:52:52\n",
            "Episode: 8, Score: 747.0, Distance: 933, Flag: No..., Time: 11/28/21 05:52:54\n",
            "Episode: 9, Score: -196.0, Distance: 354, Flag: No..., Time: 11/28/21 05:53:17\n",
            "Episode: 10, Score: 674.5, Distance: 852, Flag: No..., Time: 11/28/21 05:53:18\n"
          ]
        }
      ]
    },
    {
      "cell_type": "markdown",
      "metadata": {
        "id": "1oK4OGSg5Aqv"
      },
      "source": [
        "World 1-3"
      ]
    },
    {
      "cell_type": "code",
      "metadata": {
        "colab": {
          "base_uri": "https://localhost:8080/"
        },
        "id": "8CxCsC9pZuec",
        "outputId": "e5749630-81da-45d4-c8a1-fce469be7a27"
      },
      "source": [
        "episodes = 10\n",
        "\n",
        "for e in range(1, episodes+1):\n",
        "  state = env_1_3.reset()\n",
        "  total_reward = 0\n",
        "  while True:\n",
        "    action = MAiRO.act(state)\n",
        "    next_state, reward, done, info = env_1_3.step(action)\n",
        "    state = next_state\n",
        "    total_reward += reward\n",
        "    if done:\n",
        "      break\n",
        "\n",
        "  if info['flag_get']:\n",
        "    flag = 'YES!!!'\n",
        "    flag_count += 1\n",
        "  else:\n",
        "    flag = 'No...'\n",
        "  \n",
        "  print(f'Episode: {e}, Score: {total_reward}, Distance: {info[\"x_pos\"]}, Flag: {flag}, Time: {datetime.datetime.now().strftime(\"%x %X\")}')"
      ],
      "execution_count": null,
      "outputs": [
        {
          "output_type": "stream",
          "name": "stderr",
          "text": [
            "/usr/local/lib/python3.7/dist-packages/gym_super_mario_bros/smb_env.py:148: RuntimeWarning: overflow encountered in ubyte_scalars\n",
            "  return (self.ram[0x86] - self.ram[0x071c]) % 256\n"
          ]
        },
        {
          "output_type": "stream",
          "name": "stdout",
          "text": [
            "Episode: 1, Score: 151.0, Distance: 314, Flag: No..., Time: 11/28/21 05:53:21\n",
            "Episode: 2, Score: 150.0, Distance: 313, Flag: No..., Time: 11/28/21 05:53:21\n",
            "Episode: 3, Score: 151.0, Distance: 314, Flag: No..., Time: 11/28/21 05:53:22\n",
            "Episode: 4, Score: 154.0, Distance: 317, Flag: No..., Time: 11/28/21 05:53:22\n",
            "Episode: 5, Score: 136.0, Distance: 299, Flag: No..., Time: 11/28/21 05:53:22\n",
            "Episode: 6, Score: 151.0, Distance: 314, Flag: No..., Time: 11/28/21 05:53:23\n",
            "Episode: 7, Score: 152.0, Distance: 315, Flag: No..., Time: 11/28/21 05:53:23\n",
            "Episode: 8, Score: 124.0, Distance: 285, Flag: No..., Time: 11/28/21 05:53:23\n",
            "Episode: 9, Score: 256.0, Distance: 422, Flag: No..., Time: 11/28/21 05:53:24\n",
            "Episode: 10, Score: 151.0, Distance: 314, Flag: No..., Time: 11/28/21 05:53:24\n"
          ]
        }
      ]
    },
    {
      "cell_type": "markdown",
      "metadata": {
        "id": "-X9iFoco5Hs5"
      },
      "source": [
        "World 1-4"
      ]
    },
    {
      "cell_type": "code",
      "metadata": {
        "colab": {
          "base_uri": "https://localhost:8080/"
        },
        "id": "qBZ8L62hZu2G",
        "outputId": "52058ae0-da7e-43b6-f6ca-fb8a1ae02d8d"
      },
      "source": [
        "episodes = 10\n",
        "\n",
        "for e in range(1, episodes+1):\n",
        "  state = env_1_4.reset()\n",
        "  total_reward = 0\n",
        "  while True:\n",
        "    action = MAiRO.act(state)\n",
        "    next_state, reward, done, info = env_1_4.step(action)\n",
        "    state = next_state\n",
        "    total_reward += reward\n",
        "    if done:\n",
        "      break\n",
        "\n",
        "  if info['flag_get']:\n",
        "    flag = 'YES!!!'\n",
        "    flag_count += 1\n",
        "  else:\n",
        "    flag = 'No...'\n",
        "  \n",
        "  print(f'Episode: {e}, Score: {total_reward}, Distance: {info[\"x_pos\"]}, Flag: {flag}, Time: {datetime.datetime.now().strftime(\"%x %X\")}')"
      ],
      "execution_count": null,
      "outputs": [
        {
          "output_type": "stream",
          "name": "stdout",
          "text": [
            "Episode: 1, Score: 71.0, Distance: 232, Flag: No..., Time: 11/28/21 05:53:28\n",
            "Episode: 2, Score: 71.0, Distance: 234, Flag: No..., Time: 11/28/21 05:53:29\n",
            "Episode: 3, Score: 71.0, Distance: 232, Flag: No..., Time: 11/28/21 05:53:29\n",
            "Episode: 4, Score: 70.0, Distance: 231, Flag: No..., Time: 11/28/21 05:53:30\n",
            "Episode: 5, Score: 71.0, Distance: 232, Flag: No..., Time: 11/28/21 05:53:30\n",
            "Episode: 6, Score: 71.0, Distance: 232, Flag: No..., Time: 11/28/21 05:53:30\n"
          ]
        },
        {
          "output_type": "stream",
          "name": "stderr",
          "text": [
            "/usr/local/lib/python3.7/dist-packages/gym_super_mario_bros/smb_env.py:148: RuntimeWarning: overflow encountered in ubyte_scalars\n",
            "  return (self.ram[0x86] - self.ram[0x071c]) % 256\n"
          ]
        },
        {
          "output_type": "stream",
          "name": "stdout",
          "text": [
            "Episode: 7, Score: 272.0, Distance: 440, Flag: No..., Time: 11/28/21 05:53:31\n",
            "Episode: 8, Score: 69.0, Distance: 230, Flag: No..., Time: 11/28/21 05:53:31\n",
            "Episode: 9, Score: 71.0, Distance: 233, Flag: No..., Time: 11/28/21 05:53:32\n",
            "Episode: 10, Score: 270.0, Distance: 437, Flag: No..., Time: 11/28/21 05:53:32\n"
          ]
        }
      ]
    },
    {
      "cell_type": "markdown",
      "metadata": {
        "id": "QE5MoZlyyiFm"
      },
      "source": [
        "# **Conclusion**"
      ]
    },
    {
      "cell_type": "markdown",
      "metadata": {
        "id": "tP0Bi6FahH-e"
      },
      "source": [
        "เนื่องจากหากจะทำให้มาริโอ้วิ่งถึงธงหรือสิ้นสุดด่าน จำเป็นต้องใช้ episode ที่มหาศาล แต่ด้วยทรัพยากรที่จำกัดทำให้สามารถเทรนได้ผลลัพธ์ที่อยู่ในช่วงไม่สูงมาก ถ้าได้รันอย่างน้อย 20,000 episodes อาจจะได้ผลลัพธ์ที่พึงพอใจออกมาได้"
      ]
    },
    {
      "cell_type": "markdown",
      "metadata": {
        "id": "ggr9FTi6zKiE"
      },
      "source": [
        "# **References**"
      ]
    },
    {
      "cell_type": "markdown",
      "metadata": {
        "id": "6o6RWE7rRtm7"
      },
      "source": [
        "[1] https://pypi.org/project/gym-super-mario-bros/\n",
        "\n",
        "[2] https://github.com/fschur/DDQN-with-PyTorch-for-OpenAI-Gym\n",
        "\n",
        "[3] https://colab.research.google.com/drive/1eN33dPVtdPViiS1njTW_-r-IYCDTFU7N\n",
        "\n",
        "[4] https://github.com/yuansongFeng/MadMario/\n",
        "\n",
        "[5] https://pytorch.org/"
      ]
    }
  ]
}